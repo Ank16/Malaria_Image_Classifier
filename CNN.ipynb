{
 "cells": [
  {
   "cell_type": "code",
   "execution_count": 1,
   "metadata": {},
   "outputs": [
    {
     "name": "stderr",
     "output_type": "stream",
     "text": [
      "/Users/aniketh/Malaria_Image_ve/lib/python3.6/site-packages/tensorflow/python/framework/dtypes.py:526: FutureWarning: Passing (type, 1) or '1type' as a synonym of type is deprecated; in a future version of numpy, it will be understood as (type, (1,)) / '(1,)type'.\n",
      "  _np_qint8 = np.dtype([(\"qint8\", np.int8, 1)])\n",
      "/Users/aniketh/Malaria_Image_ve/lib/python3.6/site-packages/tensorflow/python/framework/dtypes.py:527: FutureWarning: Passing (type, 1) or '1type' as a synonym of type is deprecated; in a future version of numpy, it will be understood as (type, (1,)) / '(1,)type'.\n",
      "  _np_quint8 = np.dtype([(\"quint8\", np.uint8, 1)])\n",
      "/Users/aniketh/Malaria_Image_ve/lib/python3.6/site-packages/tensorflow/python/framework/dtypes.py:528: FutureWarning: Passing (type, 1) or '1type' as a synonym of type is deprecated; in a future version of numpy, it will be understood as (type, (1,)) / '(1,)type'.\n",
      "  _np_qint16 = np.dtype([(\"qint16\", np.int16, 1)])\n",
      "/Users/aniketh/Malaria_Image_ve/lib/python3.6/site-packages/tensorflow/python/framework/dtypes.py:529: FutureWarning: Passing (type, 1) or '1type' as a synonym of type is deprecated; in a future version of numpy, it will be understood as (type, (1,)) / '(1,)type'.\n",
      "  _np_quint16 = np.dtype([(\"quint16\", np.uint16, 1)])\n",
      "/Users/aniketh/Malaria_Image_ve/lib/python3.6/site-packages/tensorflow/python/framework/dtypes.py:530: FutureWarning: Passing (type, 1) or '1type' as a synonym of type is deprecated; in a future version of numpy, it will be understood as (type, (1,)) / '(1,)type'.\n",
      "  _np_qint32 = np.dtype([(\"qint32\", np.int32, 1)])\n",
      "/Users/aniketh/Malaria_Image_ve/lib/python3.6/site-packages/tensorflow/python/framework/dtypes.py:535: FutureWarning: Passing (type, 1) or '1type' as a synonym of type is deprecated; in a future version of numpy, it will be understood as (type, (1,)) / '(1,)type'.\n",
      "  np_resource = np.dtype([(\"resource\", np.ubyte, 1)])\n"
     ]
    },
    {
     "name": "stdout",
     "output_type": "stream",
     "text": [
      "WARNING:tensorflow:From /Users/aniketh/Malaria_Image_ve/lib/python3.6/site-packages/tensorflow/python/ops/resource_variable_ops.py:435: colocate_with (from tensorflow.python.framework.ops) is deprecated and will be removed in a future version.\n",
      "Instructions for updating:\n",
      "Colocations handled automatically by placer.\n",
      "Train on 19290 samples, validate on 8268 samples\n",
      "WARNING:tensorflow:From /Users/aniketh/Malaria_Image_ve/lib/python3.6/site-packages/tensorflow/python/ops/math_ops.py:3066: to_int32 (from tensorflow.python.ops.math_ops) is deprecated and will be removed in a future version.\n",
      "Instructions for updating:\n",
      "Use tf.cast instead.\n",
      "Epoch 1/100\n",
      "19290/19290 [==============================] - 824s 43ms/sample - loss: 0.6640 - acc: 0.6022 - val_loss: 0.5934 - val_acc: 0.7045\n",
      "Epoch 2/100\n",
      "19290/19290 [==============================] - 662s 34ms/sample - loss: 0.3956 - acc: 0.8246 - val_loss: 0.2424 - val_acc: 0.9201\n",
      "Epoch 3/100\n",
      "19290/19290 [==============================] - 630s 33ms/sample - loss: 0.2125 - acc: 0.9248 - val_loss: 0.1896 - val_acc: 0.9306\n",
      "Epoch 4/100\n",
      "19290/19290 [==============================] - 619s 32ms/sample - loss: 0.1812 - acc: 0.9377 - val_loss: 0.1911 - val_acc: 0.9331\n",
      "Epoch 5/100\n",
      "19290/19290 [==============================] - 619s 32ms/sample - loss: 0.1768 - acc: 0.9391 - val_loss: 0.1717 - val_acc: 0.9424\n",
      "Epoch 6/100\n",
      "19290/19290 [==============================] - 618s 32ms/sample - loss: 0.1674 - acc: 0.9420 - val_loss: 0.1738 - val_acc: 0.9462\n",
      "Epoch 7/100\n",
      "19290/19290 [==============================] - 617s 32ms/sample - loss: 0.1630 - acc: 0.9426 - val_loss: 0.1700 - val_acc: 0.9462\n",
      "Epoch 8/100\n",
      "19290/19290 [==============================] - 618s 32ms/sample - loss: 0.1622 - acc: 0.9438 - val_loss: 0.1650 - val_acc: 0.9438\n",
      "Epoch 9/100\n",
      "19290/19290 [==============================] - 617s 32ms/sample - loss: 0.1526 - acc: 0.9462 - val_loss: 0.1726 - val_acc: 0.9407\n",
      "Epoch 10/100\n",
      "19290/19290 [==============================] - 616s 32ms/sample - loss: 0.1510 - acc: 0.9472 - val_loss: 0.1626 - val_acc: 0.9459\n",
      "Epoch 11/100\n",
      "19290/19290 [==============================] - 619s 32ms/sample - loss: 0.1480 - acc: 0.9484 - val_loss: 0.1652 - val_acc: 0.9467\n",
      "Epoch 12/100\n",
      "19290/19290 [==============================] - 618s 32ms/sample - loss: 0.1453 - acc: 0.9482 - val_loss: 0.1646 - val_acc: 0.9464\n",
      "Epoch 13/100\n",
      "19264/19290 [============================>.] - ETA: 0s - loss: 0.1417 - acc: 0.9503\n",
      "Reached 95% accuracy so cancelling training!\n",
      "19290/19290 [==============================] - 621s 32ms/sample - loss: 0.1416 - acc: 0.9504 - val_loss: 0.1795 - val_acc: 0.9415\n"
     ]
    },
    {
     "data": {
      "text/plain": [
       "<tensorflow.python.keras.callbacks.History at 0x150d013c8>"
      ]
     },
     "execution_count": 1,
     "metadata": {},
     "output_type": "execute_result"
    }
   ],
   "source": [
    "import tensorflow as tf\n",
    "from tensorflow.keras.datasets import cifar10\n",
    "from tensorflow.keras.preprocessing.image import ImageDataGenerator\n",
    "from tensorflow.keras.models import Sequential\n",
    "from tensorflow.keras.layers import Dense, Dropout, Activation, Flatten\n",
    "from tensorflow.keras.layers import Conv2D, MaxPooling2D\n",
    "\n",
    "class myCallback(tf.keras.callbacks.Callback):\n",
    "  def on_epoch_end(self, epoch, logs={}):\n",
    "    if(logs.get('acc')>0.95):\n",
    "      print(\"\\nReached 95% accuracy so cancelling training!\")\n",
    "      self.model.stop_training = True\n",
    "        \n",
    "callbacks = myCallback()\n",
    "        \n",
    "import pickle\n",
    "\n",
    "pickle_in = open(\"X.pickle\",\"rb\")\n",
    "X = pickle.load(pickle_in)\n",
    "\n",
    "pickle_in = open(\"y.pickle\",\"rb\")\n",
    "y = pickle.load(pickle_in)\n",
    "\n",
    "X = X/255.0\n",
    "\n",
    "model = Sequential()\n",
    "\n",
    "model.add(Conv2D(256, (3, 3), input_shape=X.shape[1:]))\n",
    "model.add(Activation('relu'))\n",
    "model.add(MaxPooling2D(pool_size=(2, 2)))\n",
    "\n",
    "model.add(Conv2D(256, (3, 3)))\n",
    "model.add(Activation('relu'))\n",
    "model.add(MaxPooling2D(pool_size=(2, 2)))\n",
    "\n",
    "model.add(Flatten())  # this converts our 3D feature maps to 1D feature vectors\n",
    "\n",
    "model.add(Dense(64))\n",
    "model.add(Activation('relu'))\n",
    "\n",
    "model.add(Dense(1))\n",
    "model.add(Activation('sigmoid'))\n",
    "\n",
    "model.compile(loss='binary_crossentropy',\n",
    "              optimizer='adam',\n",
    "              metrics=['accuracy'])\n",
    "\n",
    "model.fit(X, y, batch_size=32, epochs=100, validation_split=0.3, callbacks=[callbacks])"
   ]
  },
  {
   "cell_type": "code",
   "execution_count": 2,
   "metadata": {},
   "outputs": [],
   "source": [
    "model.save('malaria_image_v1.model')"
   ]
  },
  {
   "cell_type": "code",
   "execution_count": 3,
   "metadata": {},
   "outputs": [],
   "source": [
    "new_model = tf.keras.models.load_model('malaria_image_v1.model')"
   ]
  }
 ],
 "metadata": {
  "kernelspec": {
   "display_name": "Python 3",
   "language": "python",
   "name": "python3"
  },
  "language_info": {
   "codemirror_mode": {
    "name": "ipython",
    "version": 3
   },
   "file_extension": ".py",
   "mimetype": "text/x-python",
   "name": "python",
   "nbconvert_exporter": "python",
   "pygments_lexer": "ipython3",
   "version": "3.6.4"
  }
 },
 "nbformat": 4,
 "nbformat_minor": 2
}
